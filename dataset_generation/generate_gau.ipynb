{
 "cells": [
  {
   "cell_type": "code",
   "execution_count": 19,
   "metadata": {
    "collapsed": true
   },
   "outputs": [],
   "source": [
    "import numpy as np\n",
    "import matplotlib.pyplot as plt\n",
    "from scipy.stats import norm\n",
    "\n",
    "%matplotlib inline"
   ]
  },
  {
   "cell_type": "code",
   "execution_count": 20,
   "metadata": {
    "collapsed": true
   },
   "outputs": [],
   "source": [
    "def g_density(x, mu=0.0, sigma=0.1):\n",
    "    return 1/(sigma * np.sqrt(2*np.pi)) * np.exp(-(x-mu)**2 / (2 * sigma**2))"
   ]
  },
  {
   "cell_type": "code",
   "execution_count": 21,
   "metadata": {
    "collapsed": true
   },
   "outputs": [],
   "source": [
    "def get_noise(size, mu, sigma_start, sigma_end):\n",
    "    sigmas = np.random.uniform(sigma_start, sigma_end, size)\n",
    "    noise = [np.random.normal(mu, s) for s in sigmas]\n",
    "    return np.array(noise)"
   ]
  },
  {
   "cell_type": "code",
   "execution_count": 22,
   "metadata": {
    "collapsed": true
   },
   "outputs": [],
   "source": [
    "# def generate_normal(size=100, mu=0.0, sigma=0.5, confidence=0.9):\n",
    "#     start, end = norm.interval(confidence, loc=mu, scale=sigma)\n",
    "#     step = (end - start) / (size)\n",
    "#     x = np.arange(start, end, step)\n",
    "#     noise = get_noise(x.shape[0], mu, min(0.01 * sigma, 0.01),min(0.15 * sigma, 0.05))\n",
    "# #     noise = get_noise(x.shape[0], mu, 0.01, 0.05)\n",
    "# #     y = g_density(x, mu=mu, sigma=sigma) + noise\n",
    "#     y = g_density(x, mu=mu, sigma=sigma)\n",
    "#     sol = np.array([x, y, y + noise])\n",
    "#     return sol"
   ]
  },
  {
   "cell_type": "code",
   "execution_count": 23,
   "metadata": {},
   "outputs": [],
   "source": [
    "def generate_normal(size=100, mu=0.0, sigma=0.5, confidence=0.9):\n",
    "    start, end = norm.interval(confidence, loc=mu, scale=sigma)\n",
    "    step = (end - start) / (size)\n",
    "    x = np.arange(start, end, step)\n",
    "    noise = get_noise(x.shape[0], mu, 0.01, 0.02)\n",
    "    y = g_density(x, mu=mu, sigma=sigma)\n",
    "    sol = np.array([x, y, y + noise])\n",
    "    return sol"
   ]
  },
  {
   "cell_type": "markdown",
   "metadata": {},
   "source": [
    "# Dset Generation"
   ]
  },
  {
   "cell_type": "code",
   "execution_count": 70,
   "metadata": {},
   "outputs": [],
   "source": [
    "# sigmas = [0.5, 0.4, 0.3, 0.2]\n",
    "# sigmas = [0.3, 0.28, 0.26, 0.24, 0.22, 0.2, ]\n",
    "sigmas = np.arange(0.5, 1.5, 0.15)\n",
    "sizes = [100 for _ in range(len(sigmas))]\n",
    "conf = 0.7\n",
    "dset = None\n",
    "vizu_set = None\n",
    "for i in range(len(sigmas)):\n",
    "    new_data = generate_normal(size=sizes[i], sigma=sigmas[i], confidence=conf)\n",
    "    if dset is None:\n",
    "        vizu_set = new_data.copy()\n",
    "        new_data = new_data.T\n",
    "        np.random.shuffle(new_data)\n",
    "        dset = new_data.T\n",
    "        continue\n",
    "        \n",
    "    vizu_set = np.concatenate((vizu_set, new_data.copy()), axis=1)\n",
    "    new_data = new_data.T\n",
    "    np.random.shuffle(new_data)\n",
    "    dset = np.concatenate((dset, new_data.T), axis=1)\n"
   ]
  },
  {
   "cell_type": "code",
   "execution_count": 71,
   "metadata": {},
   "outputs": [
    {
     "data": {
      "text/plain": [
       "(3, 700)"
      ]
     },
     "execution_count": 71,
     "metadata": {},
     "output_type": "execute_result"
    }
   ],
   "source": [
    "dset.shape"
   ]
  },
  {
   "cell_type": "code",
   "execution_count": 65,
   "metadata": {},
   "outputs": [
    {
     "data": {
      "text/plain": [
       "[<matplotlib.lines.Line2D at 0x1148ab7b8>]"
      ]
     },
     "execution_count": 65,
     "metadata": {},
     "output_type": "execute_result"
    },
    {
     "data": {
      "image/png": "[encoded data removed]",
      "text/plain": [
       "<matplotlib.figure.Figure at 0x1143ae5f8>"
      ]
     },
     "metadata": {},
     "output_type": "display_data"
    }
   ],
   "source": [
    "plt.plot(vizu_set[0], vizu_set[2])"
   ]
  },
  {
   "cell_type": "markdown",
   "metadata": {},
   "source": [
    "# Save Data"
   ]
  },
  {
   "cell_type": "code",
   "execution_count": 72,
   "metadata": {
    "collapsed": true
   },
   "outputs": [],
   "source": [
    "version = '-7-100-conf-70-tst'\n",
    "data_file = \"../data/data%s.csv\"%version\n",
    "label_file = \"../data/label%s.csv\"%version\n",
    "label_noised_file = \"../data/label-noised%s.csv\"%version\n",
    "\n",
    "np.savetxt(data_file, dset[0,:], delimiter=\",\")\n",
    "np.savetxt(label_file, dset[1,:], delimiter=\",\")\n",
    "np.savetxt(label_noised_file, dset[2,:], delimiter=\",\")"
   ]
  },
  {
   "cell_type": "code",
   "execution_count": null,
   "metadata": {},
   "outputs": [],
   "source": []
  }
 ],
 "metadata": {
  "kernelspec": {
   "display_name": "Python [default]",
   "language": "python",
   "name": "python3"
  },
  "language_info": {
   "codemirror_mode": {
    "name": "ipython",
    "version": 3
   },
   "file_extension": ".py",
   "mimetype": "text/x-python",
   "name": "python",
   "nbconvert_exporter": "python",
   "pygments_lexer": "ipython3",
   "version": "3.5.2"
  }
 },
 "nbformat": 4,
 "nbformat_minor": 2
}
