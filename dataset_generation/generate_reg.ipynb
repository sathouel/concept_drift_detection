{
 "cells": [
  {
   "cell_type": "code",
   "execution_count": 6,
   "metadata": {
    "collapsed": true
   },
   "outputs": [],
   "source": [
    "from sklearn.datasets import make_regression\n",
    "import matplotlib.pyplot as plt\n",
    "import numpy as np\n",
    "\n",
    "%matplotlib inline "
   ]
  },
  {
   "cell_type": "code",
   "execution_count": 7,
   "metadata": {
    "collapsed": true
   },
   "outputs": [],
   "source": [
    "def generate(n_dset, n_samples, n_features, n_informative):\n",
    "    X, y = None, None\n",
    "\n",
    "    for _ in range(n_dset):\n",
    "        if X is None:\n",
    "            X, y = make_regression(n_samples=n_samples,\n",
    "                                   n_features=n_features,\n",
    "                                   n_informative=n_informative)\n",
    "            continue\n",
    "        X_tmp, y_tmp = make_regression(n_samples=n_samples,\n",
    "                                       n_features=n_features, \n",
    "                                       n_informative=n_informative)\n",
    "        X = np.append(X, X_tmp, axis=0)\n",
    "        y = np.append(y, y_tmp, axis=0)\n",
    "    print(\"X shape \", X.shape, \" y shape \", y.shape)\n",
    "    return X, y"
   ]
  },
  {
   "cell_type": "code",
   "execution_count": 8,
   "metadata": {},
   "outputs": [
    {
     "name": "stdout",
     "output_type": "stream",
     "text": [
      "X shape  (500, 5)  y shape  (500,)\n"
     ]
    }
   ],
   "source": [
    "n_dset = 5\n",
    "n_samples = 100\n",
    "n_features = 5\n",
    "n_informative = 5\n",
    "\n",
    "X, y = generate(n_dset, n_samples, n_features, n_informative)"
   ]
  },
  {
   "cell_type": "markdown",
   "metadata": {},
   "source": [
    "# Save Dataset"
   ]
  },
  {
   "cell_type": "code",
   "execution_count": 64,
   "metadata": {
    "collapsed": true
   },
   "outputs": [],
   "source": [
    "data_file = \"../data/data-5-100.csv\"\n",
    "label_file = \"../data/label-5-100.csv\"\n",
    "\n",
    "np.savetxt(data_file, X, delimiter=\",\")\n",
    "np.savetxt(label_file, y, delimiter=\",\")"
   ]
  },
  {
   "cell_type": "markdown",
   "metadata": {},
   "source": [
    "# test"
   ]
  },
  {
   "cell_type": "code",
   "execution_count": 9,
   "metadata": {},
   "outputs": [],
   "source": [
    "def generate2(n_dset, n_samples, n_features, n_informative, noise = 0.0):\n",
    "    X, y = None, None\n",
    "\n",
    "    for _ in range(n_dset):\n",
    "        if X is None:\n",
    "            X, y = make_regression(n_samples=n_samples,\n",
    "                                   n_features=n_features,\n",
    "                                   n_informative=n_informative,\n",
    "                                   noise=noise)\n",
    "            continue\n",
    "        X_tmp, y_tmp = make_regression(n_samples=n_samples,\n",
    "                                       n_features=n_features, \n",
    "                                       n_informative=n_informative,\n",
    "                                       noise=noise)\n",
    "        X = np.append(X, X_tmp, axis=0)\n",
    "        y = np.append(y, y_tmp, axis=0)\n",
    "    print(\"X shape \", X.shape, \" y shape \", y.shape)\n",
    "    return X, y"
   ]
  },
  {
   "cell_type": "code",
   "execution_count": 19,
   "metadata": {},
   "outputs": [
    {
     "name": "stdout",
     "output_type": "stream",
     "text": [
      "X shape  (50, 2)  y shape  (50,)\n"
     ]
    }
   ],
   "source": [
    "n_dset = 1\n",
    "n_samples = 50\n",
    "n_features = 2\n",
    "n_informative = 2\n",
    "noise = 1.0\n",
    "\n",
    "X, y = generate2(n_dset, n_samples, n_features, n_informative, noise = 1.0)"
   ]
  },
  {
   "cell_type": "code",
   "execution_count": 27,
   "metadata": {
    "collapsed": true
   },
   "outputs": [],
   "source": [
    "from mpl_toolkits.mplot3d import Axes3D\n",
    "X1, Y1 = np.meshgrid(X[:,0], X[:,1])"
   ]
  },
  {
   "cell_type": "code",
   "execution_count": 28,
   "metadata": {},
   "outputs": [
    {
     "ename": "TypeError",
     "evalue": "plot_surface() missing 1 required positional argument: 'Y'",
     "output_type": "error",
     "traceback": [
      "\u001b[0;31m-----------------------------------------------------------------------\u001b[0m",
      "\u001b[0;31mTypeError\u001b[0m                             Traceback (most recent call last)",
      "\u001b[0;32m<ipython-input-28-69feab3cc227>\u001b[0m in \u001b[0;36m<module>\u001b[0;34m()\u001b[0m\n\u001b[0;32m----> 1\u001b[0;31m \u001b[0mAxes3D\u001b[0m\u001b[0;34m.\u001b[0m\u001b[0mplot_surface\u001b[0m\u001b[0;34m(\u001b[0m\u001b[0mX1\u001b[0m\u001b[0;34m,\u001b[0m \u001b[0mY1\u001b[0m\u001b[0;34m,\u001b[0m \u001b[0mZ\u001b[0m\u001b[0;34m=\u001b[0m\u001b[0my\u001b[0m\u001b[0;34m)\u001b[0m\u001b[0;34m\u001b[0m\u001b[0m\n\u001b[0m",
      "\u001b[0;31mTypeError\u001b[0m: plot_surface() missing 1 required positional argument: 'Y'"
     ]
    }
   ],
   "source": [
    "Axes3D.plot_surface(X1, Y1, Z=y)"
   ]
  },
  {
   "cell_type": "code",
   "execution_count": null,
   "metadata": {
    "collapsed": true
   },
   "outputs": [],
   "source": []
  }
 ],
 "metadata": {
  "kernelspec": {
   "display_name": "Python [default]",
   "language": "python",
   "name": "python3"
  },
  "language_info": {
   "codemirror_mode": {
    "name": "ipython",
    "version": 3
   },
   "file_extension": ".py",
   "mimetype": "text/x-python",
   "name": "python",
   "nbconvert_exporter": "python",
   "pygments_lexer": "ipython3",
   "version": "3.5.2"
  }
 },
 "nbformat": 4,
 "nbformat_minor": 2
}
