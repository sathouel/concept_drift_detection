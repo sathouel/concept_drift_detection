{
 "cells": [
  {
   "cell_type": "code",
   "execution_count": 18,
   "metadata": {},
   "outputs": [],
   "source": [
    "from sklearn.datasets import make_regression\n",
    "import matplotlib.pyplot as plt\n",
    "import numpy as np\n",
    "\n",
    "%matplotlib inline "
   ]
  },
  {
   "cell_type": "code",
   "execution_count": 61,
   "metadata": {},
   "outputs": [],
   "source": [
    "def generate(n_dset, n_samples, n_features, n_informative):\n",
    "    X, y = None, None\n",
    "\n",
    "    for _ in range(n_dset):\n",
    "        if X is None:\n",
    "            X, y = make_regression(n_samples=n_samples,\n",
    "                                   n_features=n_features,\n",
    "                                   n_informative=n_informative)\n",
    "            continue\n",
    "        X_tmp, y_tmp = make_regression(n_samples=n_samples,\n",
    "                                       n_features=n_features, \n",
    "                                       n_informative=n_informative)\n",
    "        X = np.append(X, X_tmp, axis=0)\n",
    "        y = np.append(y, y_tmp, axis=0)\n",
    "    print(\"X shape \", X.shape, \" y shape \", y.shape)\n",
    "    return X, y"
   ]
  },
  {
   "cell_type": "code",
   "execution_count": 62,
   "metadata": {},
   "outputs": [
    {
     "name": "stdout",
     "output_type": "stream",
     "text": [
      "X shape  (500, 5)  y shape  (500,)\n"
     ]
    }
   ],
   "source": [
    "n_dset = 5\n",
    "n_samples = 100\n",
    "n_features = 5\n",
    "n_informative = 5\n",
    "\n",
    "X, y = generate(n_dset, n_samples, n_features, n_informative)"
   ]
  },
  {
   "cell_type": "markdown",
   "metadata": {},
   "source": [
    "# Save Dataset"
   ]
  },
  {
   "cell_type": "code",
   "execution_count": 64,
   "metadata": {},
   "outputs": [],
   "source": [
    "data_file = \"../data/data-5-100.csv\"\n",
    "label_file = \"../data/label-5-100.csv\"\n",
    "\n",
    "np.savetxt(data_file, X, delimiter=\",\")\n",
    "np.savetxt(label_file, y, delimiter=\",\")"
   ]
  },
  {
   "cell_type": "code",
   "execution_count": null,
   "metadata": {},
   "outputs": [],
   "source": []
  },
  {
   "cell_type": "code",
   "execution_count": null,
   "metadata": {},
   "outputs": [],
   "source": []
  }
 ],
 "metadata": {
  "kernelspec": {
   "display_name": "Python 3",
   "language": "python",
   "name": "python3"
  },
  "language_info": {
   "codemirror_mode": {
    "name": "ipython",
    "version": 3
   },
   "file_extension": ".py",
   "mimetype": "text/x-python",
   "name": "python",
   "nbconvert_exporter": "python",
   "pygments_lexer": "ipython3",
   "version": "3.6.2"
  }
 },
 "nbformat": 4,
 "nbformat_minor": 2
}
