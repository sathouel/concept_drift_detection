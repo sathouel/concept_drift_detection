{
 "cells": [
  {
   "cell_type": "code",
   "execution_count": 67,
   "metadata": {
    "collapsed": true
   },
   "outputs": [],
   "source": [
    "from detectors import *\n",
    "import numpy as np"
   ]
  },
  {
   "cell_type": "code",
   "execution_count": 83,
   "metadata": {
    "collapsed": true
   },
   "outputs": [],
   "source": [
    "data_version = '6-100'\n",
    "data_file = '../data/data-%s.csv'%(data_version)\n",
    "label_file = '../data/label-%s.csv'%(data_version)\n",
    "label_noised_file = '../data/label-noised-%s.csv'%(data_version)\n",
    "\n",
    "X = np.loadtxt(data_file, delimiter=\",\")\n",
    "y = np.loadtxt(label_file, delimiter=\",\")\n",
    "y_noised = np.loadtxt(label_noised_file, delimiter=\",\")"
   ]
  },
  {
   "cell_type": "code",
   "execution_count": 84,
   "metadata": {},
   "outputs": [
    {
     "name": "stdout",
     "output_type": "stream",
     "text": [
      "X shape  (600,)  y shape  (600,)  y noised shape  (600,)\n"
     ]
    }
   ],
   "source": [
    "print(\"X shape \", X.shape, \" y shape \", y.shape, \" y noised shape \", y_noised.shape)"
   ]
  },
  {
   "cell_type": "code",
   "execution_count": 85,
   "metadata": {
    "collapsed": true
   },
   "outputs": [],
   "source": [
    "X, y, y_noised = X.reshape((-1, 1)), y.reshape((-1, 1)), y_noised.reshape((-1, 1))"
   ]
  },
  {
   "cell_type": "markdown",
   "metadata": {},
   "source": [
    "# Inspection"
   ]
  },
  {
   "cell_type": "code",
   "execution_count": 86,
   "metadata": {
    "collapsed": true
   },
   "outputs": [],
   "source": [
    "import matplotlib.pyplot as plt\n",
    "from mpl_toolkits.mplot3d import Axes3D\n",
    "\n",
    "%matplotlib inline\n"
   ]
  },
  {
   "cell_type": "code",
   "execution_count": 87,
   "metadata": {
    "scrolled": true
   },
   "outputs": [],
   "source": [
    "# fig = plt.figure(figsize=(10,5))\n",
    "# ax = fig.add_subplot(111, projection='3d')\n",
    "# ax.set_title(\"data visualization\")\n",
    "# n = X.shape[0]\n",
    "# counter = 0\n",
    "# colors = ['r', 'b', 'g', 'y']\n",
    "# n_colors = len(colors)\n",
    "# for a, b, c in zip(X, y_noised, range(n-1)):\n",
    "#     ax.scatter(a, c, b, c=colors[int(counter/100)%n_colors], marker='o')\n",
    "#     counter += 1\n",
    "\n",
    "# ax.view_init(20, 270)"
   ]
  },
  {
   "cell_type": "markdown",
   "metadata": {},
   "source": [
    "# Building detectors"
   ]
  },
  {
   "cell_type": "code",
   "execution_count": 88,
   "metadata": {
    "collapsed": true
   },
   "outputs": [],
   "source": [
    "from sklearn.linear_model import LinearRegression\n",
    "from sklearn.svm import SVR\n",
    "\n",
    "def get_new_model(X, y, base_model=SVR):\n",
    "    new_model = base_model()\n",
    "    new_model.fit(X, y.ravel())\n",
    "    return new_model\n"
   ]
  },
  {
   "cell_type": "code",
   "execution_count": 89,
   "metadata": {
    "collapsed": true
   },
   "outputs": [],
   "source": [
    "# creates set of detectors\n",
    "# win_lens = [10*(i+1) for i in range(10)]\n",
    "# wrn_bds = [1.5, 1.75, 2, 2.5]\n",
    "# dtc_bds = [2.75, 3, 3.5, 4]\n",
    "# wrn_bds = [1.25, 1.75, 2, 2.5, 2.75]\n",
    "# dtc_bds = [3, 3.5, 4, 4.5, 5]\n",
    "win_lens = [15*(i+1) for i in range(5)]\n",
    "wrn_bds = np.arange(1.25, 2.75, 0.25).tolist()\n",
    "dtc_bds = np.arange(2.95, 5, 0.25).tolist()\n"
   ]
  },
  {
   "cell_type": "code",
   "execution_count": 90,
   "metadata": {
    "collapsed": true
   },
   "outputs": [],
   "source": [
    "detectors_set = DetectorsSet(win_lens, wrn_bds, dtc_bds)"
   ]
  },
  {
   "cell_type": "code",
   "execution_count": 91,
   "metadata": {},
   "outputs": [
    {
     "name": "stdout",
     "output_type": "stream",
     "text": [
      "120 1 100 (50, 1)\n",
      "220 2 200 (50, 1)\n",
      "320 3 300 (50, 1)\n",
      "420 4 400 (50, 1)\n",
      "520 5 500 (50, 1)\n",
      "output shape  (620, 270)\n"
     ]
    }
   ],
   "source": [
    "drift_number = 6\n",
    "concept_len = 100\n",
    "detectors_outputs = []\n",
    "curr_model = None\n",
    "train_size = 50\n",
    "tolerance = 0.2\n",
    "\n",
    "curr_model = get_new_model(X[:train_size], y_noised[:train_size])\n",
    "for i in range(X.shape[0] + int(tolerance*concept_len)):\n",
    "    \n",
    "    if i % concept_len == int(tolerance*concept_len) and int(i/concept_len) > 0:\n",
    "        concept_n = int(i/concept_len)\n",
    "        start_idx_train = int(concept_n * concept_len)\n",
    "        X_train = X[start_idx_train: start_idx_train + train_size]\n",
    "        y_train = y_noised[start_idx_train: start_idx_train + train_size]\n",
    "        print(i, concept_n, start_idx_train, y_train.shape)\n",
    "        new_model = get_new_model(X_train, y_train)\n",
    "        detectors_set.reset_detectors(new_model, hard_reset=True)\n",
    "        \n",
    "    if i >= X.shape[0]:\n",
    "            next_sample, next_label = X[i - X.shape[0]], y[i - X.shape[0]]\n",
    "    else:\n",
    "        next_sample, next_label = X[i], y[i]   \n",
    "        \n",
    "    curr_pred = curr_model.predict([next_sample])\n",
    "    detectors_prediction = detectors_set.predict(next_sample, curr_pred, next_label)\n",
    "    detectors_outputs.append(detectors_prediction)\n",
    "    \n",
    "out = np.array(detectors_outputs)  \n",
    "print('output shape ', out.shape)"
   ]
  },
  {
   "cell_type": "code",
   "execution_count": 92,
   "metadata": {
    "collapsed": true
   },
   "outputs": [],
   "source": [
    "hist = []\n",
    "for l in detectors_outputs:\n",
    "    z, w, d = 0, 0, 0\n",
    "    for e in l:\n",
    "        if e == 1:\n",
    "            w += 1\n",
    "        elif e == 2:\n",
    "            d += 1\n",
    "        else:\n",
    "            z += 1\n",
    "    hist.append([z, w, d])\n",
    "    \n",
    "def print_hist(start, end, hist):\n",
    "    rg = end - start + 1\n",
    "    for i in range(rg):\n",
    "        print('it %d : ras %d, wrn %d, dtc %d'%(i, hist[start + i][0], hist[start + i][1], hist[start + i][2]))"
   ]
  },
  {
   "cell_type": "code",
   "execution_count": 93,
   "metadata": {
    "collapsed": true
   },
   "outputs": [],
   "source": [
    "def plot_concept_perf(out, concept_number, concept_len, tolerance, subplot=111):\n",
    "    \n",
    "    ay = range(out.shape[1])\n",
    "    fig = plt.figure(figsize=(10,5))\n",
    "    ax = fig.add_subplot(subplot, projection='3d')\n",
    "    ax.set_title(\"data visualization\")\n",
    "    colors = ['g', 'b', 'r']\n",
    "    size_samples = int(concept_len*tolerance)\n",
    "    for i in range(size_samples):\n",
    "        idx = concept_number*size_samples + i\n",
    "        if idx >= len(out):\n",
    "            idx = i\n",
    "        for dj in range(out.shape[1]):\n",
    "            ax.scatter(i, dj, out[idx, dj],\n",
    "                       c=colors[out[idx, dj]], marker='o')\n",
    "\n",
    "    ax.view_init(20, 270)"
   ]
  },
  {
   "cell_type": "code",
   "execution_count": 94,
   "metadata": {
    "collapsed": true
   },
   "outputs": [],
   "source": [
    "def plot_concept_range(out, start, end, subplot=111):\n",
    "    \n",
    "    ay = range(out.shape[1])\n",
    "    fig = plt.figure(figsize=(10,5))\n",
    "    ax = fig.add_subplot(subplot, projection='3d')\n",
    "    ax.set_title(\"data visualization\")\n",
    "    colors = ['g', 'b', 'r']\n",
    "    size_samples = end-start+1\n",
    "    for i in range(size_samples):\n",
    "        idx = start + i\n",
    "        if idx >= len(out):\n",
    "            idx = i\n",
    "        for dj in range(out.shape[1]):\n",
    "            ax.scatter(i, dj, out[idx, dj],\n",
    "                       c=colors[out[idx, dj]], marker='o')\n",
    "\n",
    "    ax.view_init(20, 270)"
   ]
  },
  {
   "cell_type": "code",
   "execution_count": 95,
   "metadata": {},
   "outputs": [
    {
     "data": {
      "image/png": "[encoded data removed]",
      "text/plain": [
       "<matplotlib.figure.Figure at 0x7f45bc619518>"
      ]
     },
     "metadata": {},
     "output_type": "display_data"
    }
   ],
   "source": [
    "plot_concept_range(out, 120, 220)"
   ]
  },
  {
   "cell_type": "code",
   "execution_count": 138,
   "metadata": {},
   "outputs": [
    {
     "name": "stdout",
     "output_type": "stream",
     "text": [
      "it 0 : ras 540, wrn 0, dtc 0\n",
      "it 1 : ras 540, wrn 0, dtc 0\n",
      "it 2 : ras 540, wrn 0, dtc 0\n",
      "it 3 : ras 540, wrn 0, dtc 0\n",
      "it 4 : ras 540, wrn 0, dtc 0\n",
      "it 5 : ras 540, wrn 0, dtc 0\n",
      "it 6 : ras 540, wrn 0, dtc 0\n",
      "it 7 : ras 540, wrn 0, dtc 0\n",
      "it 8 : ras 540, wrn 0, dtc 0\n",
      "it 9 : ras 540, wrn 0, dtc 0\n",
      "it 10 : ras 540, wrn 0, dtc 0\n",
      "it 11 : ras 513, wrn 27, dtc 0\n",
      "it 12 : ras 531, wrn 9, dtc 0\n",
      "it 13 : ras 505, wrn 35, dtc 0\n",
      "it 14 : ras 505, wrn 35, dtc 0\n",
      "it 15 : ras 513, wrn 27, dtc 0\n",
      "it 16 : ras 513, wrn 27, dtc 0\n",
      "it 17 : ras 505, wrn 35, dtc 0\n",
      "it 18 : ras 513, wrn 27, dtc 0\n",
      "it 19 : ras 513, wrn 27, dtc 0\n",
      "it 20 : ras 513, wrn 27, dtc 0\n",
      "it 21 : ras 540, wrn 0, dtc 0\n",
      "it 22 : ras 540, wrn 0, dtc 0\n",
      "it 23 : ras 540, wrn 0, dtc 0\n",
      "it 24 : ras 540, wrn 0, dtc 0\n",
      "it 25 : ras 540, wrn 0, dtc 0\n",
      "it 26 : ras 468, wrn 42, dtc 30\n",
      "it 27 : ras 471, wrn 57, dtc 12\n",
      "it 28 : ras 456, wrn 72, dtc 12\n",
      "it 29 : ras 468, wrn 72, dtc 0\n",
      "it 30 : ras 459, wrn 81, dtc 0\n",
      "it 31 : ras 468, wrn 72, dtc 0\n",
      "it 32 : ras 468, wrn 72, dtc 0\n",
      "it 33 : ras 477, wrn 63, dtc 0\n",
      "it 34 : ras 477, wrn 63, dtc 0\n",
      "it 35 : ras 477, wrn 63, dtc 0\n",
      "it 36 : ras 477, wrn 63, dtc 0\n",
      "it 37 : ras 477, wrn 63, dtc 0\n",
      "it 38 : ras 459, wrn 81, dtc 0\n",
      "it 39 : ras 423, wrn 117, dtc 0\n",
      "it 40 : ras 423, wrn 117, dtc 0\n",
      "it 41 : ras 432, wrn 108, dtc 0\n",
      "it 42 : ras 432, wrn 108, dtc 0\n",
      "it 43 : ras 432, wrn 108, dtc 0\n",
      "it 44 : ras 432, wrn 108, dtc 0\n",
      "it 45 : ras 423, wrn 117, dtc 0\n",
      "it 46 : ras 405, wrn 135, dtc 0\n",
      "it 47 : ras 405, wrn 135, dtc 0\n",
      "it 48 : ras 432, wrn 108, dtc 0\n",
      "it 49 : ras 432, wrn 108, dtc 0\n",
      "it 50 : ras 441, wrn 99, dtc 0\n",
      "it 51 : ras 405, wrn 135, dtc 0\n",
      "it 52 : ras 414, wrn 126, dtc 0\n",
      "it 53 : ras 414, wrn 126, dtc 0\n",
      "it 54 : ras 414, wrn 126, dtc 0\n",
      "it 55 : ras 423, wrn 117, dtc 0\n",
      "it 56 : ras 396, wrn 144, dtc 0\n",
      "it 57 : ras 351, wrn 189, dtc 0\n",
      "it 58 : ras 342, wrn 198, dtc 0\n",
      "it 59 : ras 324, wrn 216, dtc 0\n",
      "it 60 : ras 342, wrn 198, dtc 0\n",
      "it 61 : ras 333, wrn 207, dtc 0\n",
      "it 62 : ras 315, wrn 217, dtc 8\n",
      "it 63 : ras 323, wrn 217, dtc 0\n",
      "it 64 : ras 323, wrn 211, dtc 6\n",
      "it 65 : ras 329, wrn 211, dtc 0\n",
      "it 66 : ras 329, wrn 211, dtc 0\n",
      "it 67 : ras 329, wrn 211, dtc 0\n",
      "it 68 : ras 337, wrn 203, dtc 0\n",
      "it 69 : ras 353, wrn 187, dtc 0\n",
      "it 70 : ras 362, wrn 178, dtc 0\n",
      "it 71 : ras 345, wrn 195, dtc 0\n",
      "it 72 : ras 361, wrn 179, dtc 0\n",
      "it 73 : ras 361, wrn 179, dtc 0\n",
      "it 74 : ras 369, wrn 171, dtc 0\n",
      "it 75 : ras 369, wrn 171, dtc 0\n",
      "it 76 : ras 378, wrn 162, dtc 0\n",
      "it 77 : ras 394, wrn 146, dtc 0\n",
      "it 78 : ras 402, wrn 138, dtc 0\n",
      "it 79 : ras 410, wrn 130, dtc 0\n",
      "it 80 : ras 410, wrn 130, dtc 0\n",
      "it 81 : ras 427, wrn 113, dtc 0\n",
      "it 82 : ras 435, wrn 105, dtc 0\n",
      "it 83 : ras 435, wrn 105, dtc 0\n",
      "it 84 : ras 443, wrn 97, dtc 0\n",
      "it 85 : ras 443, wrn 97, dtc 0\n",
      "it 86 : ras 443, wrn 97, dtc 0\n",
      "it 87 : ras 452, wrn 88, dtc 0\n",
      "it 88 : ras 461, wrn 79, dtc 0\n",
      "it 89 : ras 488, wrn 52, dtc 0\n",
      "it 90 : ras 488, wrn 52, dtc 0\n",
      "it 91 : ras 497, wrn 43, dtc 0\n",
      "it 92 : ras 497, wrn 43, dtc 0\n",
      "it 93 : ras 497, wrn 43, dtc 0\n",
      "it 94 : ras 497, wrn 43, dtc 0\n",
      "it 95 : ras 497, wrn 43, dtc 0\n",
      "it 96 : ras 497, wrn 43, dtc 0\n",
      "it 97 : ras 513, wrn 27, dtc 0\n",
      "it 98 : ras 522, wrn 18, dtc 0\n",
      "it 99 : ras 522, wrn 18, dtc 0\n"
     ]
    }
   ],
   "source": [
    "print_hist(520, 619, hist)"
   ]
  },
  {
   "cell_type": "markdown",
   "metadata": {},
   "source": [
    "# Dataset exctraction"
   ]
  },
  {
   "cell_type": "code",
   "execution_count": 80,
   "metadata": {
    "collapsed": true
   },
   "outputs": [],
   "source": [
    "def cd_detected(pred_vec):\n",
    "    for val in pred_vec:\n",
    "        if val == 2:\n",
    "            return True\n",
    "    return False"
   ]
  },
  {
   "cell_type": "code",
   "execution_count": 81,
   "metadata": {
    "collapsed": true
   },
   "outputs": [],
   "source": [
    "X, y = [], []\n",
    "tol = 0.20\n",
    "for i, x in enumerate(detectors_outputs):\n",
    "    curr_concept_pos = i % concept_len \n",
    "    if cd_detected(x):\n",
    "        X.append(x[:])\n",
    "        if int(i/concept_len) > 0 and curr_concept_pos < tolerance * concept_len:\n",
    "            y.append(1)\n",
    "        else:\n",
    "            y.append(0)"
   ]
  },
  {
   "cell_type": "code",
   "execution_count": 82,
   "metadata": {},
   "outputs": [
    {
     "name": "stdout",
     "output_type": "stream",
     "text": [
      "16 7\n"
     ]
    }
   ],
   "source": [
    "print(len(X), sum(y))"
   ]
  },
  {
   "cell_type": "markdown",
   "metadata": {},
   "source": [
    "# Training"
   ]
  },
  {
   "cell_type": "code",
   "execution_count": 63,
   "metadata": {
    "collapsed": true
   },
   "outputs": [],
   "source": [
    "from sklearn.model_selection import train_test_split\n",
    "from sklearn.ensemble import RandomForestClassifier\n",
    "from sklearn.svm import SVC\n",
    "from sklearn.neighbors import KNeighborsClassifier\n",
    "from sklearn.linear_model import LogisticRegression\n",
    "from sklearn.metrics import f1_score"
   ]
  },
  {
   "cell_type": "code",
   "execution_count": 64,
   "metadata": {
    "collapsed": true
   },
   "outputs": [],
   "source": [
    "X, y = np.array(X), np.array(y)\n",
    "X_train, X_test, y_train, y_test = train_test_split(X, y, test_size=0.2, random_state=1)"
   ]
  },
  {
   "cell_type": "code",
   "execution_count": 65,
   "metadata": {},
   "outputs": [
    {
     "name": "stdout",
     "output_type": "stream",
     "text": [
      "training models\n",
      "training SVC ...\n",
      "training RF ...\n",
      "training KNN ...\n",
      "training LR ...\n"
     ]
    }
   ],
   "source": [
    "models_name = ['SVC', 'RF', 'KNN', 'LR']\n",
    "base_models = {'SVC': SVC,\n",
    "               'KNN':KNeighborsClassifier,\n",
    "               'LR':LogisticRegression,\n",
    "               'RF':RandomForestClassifier}\n",
    "models = []\n",
    "print('training models')\n",
    "for model_name in models_name:\n",
    "    print('training %s ...'%model_name)\n",
    "    model = base_models[model_name]()\n",
    "    model.fit(X_train, y_train)\n",
    "    models.append(model)"
   ]
  },
  {
   "cell_type": "code",
   "execution_count": 66,
   "metadata": {},
   "outputs": [
    {
     "name": "stdout",
     "output_type": "stream",
     "text": [
      "testing model\n",
      "score SVC 0.800000\n",
      "score RF 1.000000\n",
      "score KNN 0.888889\n",
      "score LR 1.000000\n"
     ]
    }
   ],
   "source": [
    "print(\"testing model\")\n",
    "best_model = models[0]\n",
    "best_score = 0\n",
    "for i in range(len(models)):\n",
    "    model = models[i]\n",
    "    pred = model.predict(X_test)\n",
    "    score = f1_score(y_pred=pred, y_true=y_test)\n",
    "    best_model = best_model if best_score >= score else model\n",
    "    best_score = best_score if best_score >= score else score\n",
    "    print('score %s %f'%(models_name[i], score)) \n",
    "    "
   ]
  },
  {
   "cell_type": "code",
   "execution_count": null,
   "metadata": {
    "collapsed": true
   },
   "outputs": [],
   "source": []
  },
  {
   "cell_type": "code",
   "execution_count": null,
   "metadata": {
    "collapsed": true
   },
   "outputs": [],
   "source": []
  },
  {
   "cell_type": "code",
   "execution_count": null,
   "metadata": {
    "collapsed": true
   },
   "outputs": [],
   "source": []
  }
 ],
 "metadata": {
  "kernelspec": {
   "display_name": "Python 3",
   "language": "python",
   "name": "python3"
  },
  "language_info": {
   "codemirror_mode": {
    "name": "ipython",
    "version": 3
   },
   "file_extension": ".py",
   "mimetype": "text/x-python",
   "name": "python",
   "nbconvert_exporter": "python",
   "pygments_lexer": "ipython3",
   "version": "3.6.3"
  }
 },
 "nbformat": 4,
 "nbformat_minor": 2
}
