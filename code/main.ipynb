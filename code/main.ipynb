{
 "cells": [
  {
   "cell_type": "code",
   "execution_count": 1,
   "metadata": {
    "collapsed": true
   },
   "outputs": [],
   "source": [
    "from detectors import *\n",
    "import numpy as np"
   ]
  },
  {
   "cell_type": "code",
   "execution_count": 2,
   "metadata": {
    "collapsed": true
   },
   "outputs": [],
   "source": [
    "data_file = '../data/data-5-100.csv'\n",
    "label_file = '../data/label-5-100.csv'\n",
    "\n",
    "X = np.loadtxt(data_file, delimiter=\",\")\n",
    "y = np.loadtxt(label_file, delimiter=\",\")"
   ]
  },
  {
   "cell_type": "code",
   "execution_count": 3,
   "metadata": {},
   "outputs": [
    {
     "name": "stdout",
     "output_type": "stream",
     "text": [
      "X shape  (500, 5)  y shape  (500,)\n"
     ]
    }
   ],
   "source": [
    "print(\"X shape \", X.shape, \" y shape \", y.shape)"
   ]
  },
  {
   "cell_type": "code",
   "execution_count": 4,
   "metadata": {
    "collapsed": true
   },
   "outputs": [],
   "source": [
    "from sklearn.linear_model import LinearRegression\n",
    "\n",
    "X_train, y_train = X[:50, :], y[:50]\n",
    "\n",
    "model = LinearRegression()\n",
    "model = model.fit(X_train, y_train)"
   ]
  },
  {
   "cell_type": "code",
   "execution_count": 5,
   "metadata": {
    "collapsed": true
   },
   "outputs": [],
   "source": [
    "def scorer(pred, label):\n",
    "    return np.sum((pred - label) ** 2)"
   ]
  },
  {
   "cell_type": "code",
   "execution_count": 8,
   "metadata": {
    "scrolled": true
   },
   "outputs": [
    {
     "name": "stdout",
     "output_type": "stream",
     "text": [
      " avg :  1.4195719684024225e-26  std :  2.08338931855e-26\n",
      "min avg :  None  min std :  None\n",
      " avg :  1.4403978963002572e-26  std :  2.08721566972e-26\n",
      "min avg :  1.4195719684024225e-26  min std :  2.08338931855e-26\n",
      " avg :  1.2458206208620634e-26  std :  1.7229184458e-26\n",
      "min avg :  1.4195719684024225e-26  min std :  2.08338931855e-26\n",
      " avg :  1.2465274402331413e-26  std :  1.72243303037e-26\n",
      "min avg :  1.2458206208620634e-26  min std :  1.7229184458e-26\n",
      " avg :  1.2682368923448236e-26  std :  1.73634127238e-26\n",
      "min avg :  1.2458206208620634e-26  min std :  1.7229184458e-26\n",
      " avg :  1.2553121952736825e-26  std :  1.74271530507e-26\n",
      "min avg :  1.2458206208620634e-26  min std :  1.7229184458e-26\n",
      " avg :  1.1653441867550366e-26  std :  1.68580845238e-26\n",
      "min avg :  1.2458206208620634e-26  min std :  1.7229184458e-26\n",
      " avg :  1.1447454507979055e-26  std :  1.68153288067e-26\n",
      "min avg :  1.1653441867550366e-26  min std :  1.68580845238e-26\n",
      " avg :  1.1188960566556234e-26  std :  1.68898106307e-26\n",
      "min avg :  1.1447454507979055e-26  min std :  1.68153288067e-26\n",
      " avg :  1.0708323394223176e-26  std :  1.67148602153e-26\n",
      "min avg :  1.1188960566556234e-26  min std :  1.68898106307e-26\n",
      " avg :  1.0930466625133414e-26  std :  1.66689690284e-26\n",
      "min avg :  1.0708323394223176e-26  min std :  1.67148602153e-26\n",
      " avg :  1.0969846561522047e-26  std :  1.66483946203e-26\n",
      "min avg :  1.0708323394223176e-26  min std :  1.67148602153e-26\n",
      " avg :  1.061542713402435e-26  std :  1.66368582861e-26\n",
      "min avg :  1.0708323394223176e-26  min std :  1.67148602153e-26\n",
      " avg :  1.0614417392065667e-26  std :  1.66375009938e-26\n",
      "min avg :  1.061542713402435e-26  min std :  1.66368582861e-26\n",
      " avg :  1.0565949778048889e-26  std :  1.66624500613e-26\n",
      "min avg :  1.0614417392065667e-26  min std :  1.66375009938e-26\n",
      " avg :  1.0828482687306441e-26  std :  1.66482207767e-26\n",
      "min avg :  1.0565949778048889e-26  min std :  1.66624500613e-26\n",
      " avg :  1.0295338933121872e-26  std :  1.61378973979e-26\n",
      "min avg :  1.0565949778048889e-26  min std :  1.66624500613e-26\n",
      " avg :  1.055282313258601e-26  std :  1.60749670299e-26\n",
      "min avg :  1.0295338933121872e-26  min std :  1.61378973979e-26\n",
      " avg :  1.0572907531232938e-26  std :  1.60629601452e-26\n",
      "min avg :  1.0295338933121872e-26  min std :  1.61378973979e-26\n",
      " avg :  9.785308803460278e-27  std :  1.55794447115e-26\n",
      "min avg :  1.0295338933121872e-26  min std :  1.61378973979e-26\n",
      " avg :  9.8135815783034e-27  std :  1.5566236653e-26\n",
      "min avg :  9.785308803460278e-27  min std :  1.55794447115e-26\n",
      " avg :  1.078293385863898e-26  std :  1.66008713263e-26\n",
      "min avg :  9.785308803460278e-27  min std :  1.55794447115e-26\n",
      " avg :  1.1361263565474607e-26  std :  1.69891135142e-26\n",
      "min avg :  9.785308803460278e-27  min std :  1.55794447115e-26\n",
      " avg :  1.1308756983623097e-26  std :  1.69976173509e-26\n",
      "min avg :  9.785308803460278e-27  min std :  1.55794447115e-26\n",
      " avg :  1.1665010512725432e-26  std :  1.69546541495e-26\n",
      "min avg :  9.785308803460278e-27  min std :  1.55794447115e-26\n",
      " avg :  1.1337854118112174e-26  std :  1.70186446658e-26\n",
      "min avg :  9.785308803460278e-27  min std :  1.55794447115e-26\n",
      " avg :  1.1348961279657686e-26  std :  1.70122452077e-26\n",
      "min avg :  9.785308803460278e-27  min std :  1.55794447115e-26\n",
      " avg :  1.2185027621447123e-26  std :  1.79230967803e-26\n",
      "min avg :  9.785308803460278e-27  min std :  1.55794447115e-26\n",
      " avg :  1.2326391495662729e-26  std :  1.78557736514e-26\n",
      "min avg :  9.785308803460278e-27  min std :  1.55794447115e-26\n",
      " avg :  1.264446021264784e-26  std :  1.79268602724e-26\n",
      "min avg :  9.785308803460278e-27  min std :  1.55794447115e-26\n",
      " avg :  1.2855748717502236e-26  std :  1.78392234839e-26\n",
      "min avg :  9.785308803460278e-27  min std :  1.55794447115e-26\n",
      " avg :  1.2803242135650726e-26  std :  1.78517184812e-26\n",
      "min avg :  9.785308803460278e-27  min std :  1.55794447115e-26\n",
      " avg :  1.2500319548045857e-26  std :  1.78522276464e-26\n",
      "min avg :  9.785308803460278e-27  min std :  1.55794447115e-26\n",
      " avg :  1.2318177419857357e-26  std :  1.78993483718e-26\n",
      "min avg :  9.785308803460278e-27  min std :  1.55794447115e-26\n",
      " avg :  1.256051548994125e-26  std :  1.78237348216e-26\n",
      "min avg :  9.785308803460278e-27  min std :  1.55794447115e-26\n",
      " avg :  1.2459793729562633e-26  std :  1.78356177282e-26\n",
      "min avg :  9.785308803460278e-27  min std :  1.55794447115e-26\n",
      " avg :  1.2119526466704602e-26  std :  1.77660494497e-26\n",
      "min avg :  9.785308803460278e-27  min std :  1.55794447115e-26\n",
      " avg :  1.1973113882695582e-26  std :  1.77752430633e-26\n",
      "min avg :  9.785308803460278e-27  min std :  1.55794447115e-26\n",
      " avg :  1.0616020690225771e-26  std :  1.48138345218e-26\n",
      "min avg :  9.785308803460278e-27  min std :  1.55794447115e-26\n",
      " avg :  1.0683357857095435e-26  std :  1.47995916877e-26\n",
      "min avg :  9.785308803460278e-27  min std :  1.55794447115e-26\n",
      " avg :  1.0716679341731971e-26  std :  1.47791807263e-26\n",
      "min avg :  9.785308803460278e-27  min std :  1.55794447115e-26\n",
      " avg :  1.0898432894294893e-26  std :  1.4711931073e-26\n",
      "min avg :  9.785308803460278e-27  min std :  1.55794447115e-26\n",
      " avg :  1.081822151745202e-26  std :  1.47596914017e-26\n",
      "min avg :  9.785308803460278e-27  min std :  1.55794447115e-26\n",
      " avg :  1.0435923745563813e-26  std :  1.47594240379e-26\n",
      "min avg :  9.785308803460278e-27  min std :  1.55794447115e-26\n",
      " avg :  9.059645455879027e-27  std :  1.17774519296e-26\n",
      "min avg :  9.785308803460278e-27  min std :  1.55794447115e-26\n",
      " avg :  9.21716520143356e-27  std :  1.17754227893e-26\n",
      "min avg :  9.059645455879027e-27  min std :  1.17774519296e-26\n",
      " avg :  9.2383697825659e-27  std :  1.17601142066e-26\n",
      "min avg :  9.059645455879027e-27  min std :  1.17774519296e-26\n",
      " avg :  9.211106749681462e-27  std :  1.17788511929e-26\n",
      "min avg :  9.059645455879027e-27  min std :  1.17774519296e-26\n",
      " avg :  9.194950878342536e-27  std :  1.1790913905e-26\n",
      "min avg :  9.059645455879027e-27  min std :  1.17774519296e-26\n",
      " avg :  9.13739558669761e-27  std :  1.18128405275e-26\n",
      "min avg :  9.059645455879027e-27  min std :  1.17774519296e-26\n",
      " avg :  78.08265624226784  std :  546.578593696\n",
      "min avg :  9.059645455879027e-27  min std :  1.17774519296e-26\n",
      "Detection !\n",
      "100) d2 detection !\n",
      "True\n"
     ]
    }
   ],
   "source": [
    "# d1 = RDDM()\n",
    "d2 = WinRDDM(win_len=50 ,dtc_bd=3)\n",
    "\n",
    "for i in range(500):\n",
    "    next_sample = X[i, :]\n",
    "    next_label = y[i]\n",
    "    pred = model.predict([next_sample])\n",
    "    error = scorer(pred, next_label)\n",
    "       \n",
    "    d2_out = d2.predict(next_sample, error)\n",
    "    if d2_out:\n",
    "        print(\"%d) d2 detection !\" % i)\n",
    "        print(d2_out)\n",
    "        break\n"
   ]
  },
  {
   "cell_type": "code",
   "execution_count": 10,
   "metadata": {},
   "outputs": [
    {
     "data": {
      "text/plain": [
       "(0, [])"
      ]
     },
     "execution_count": 10,
     "metadata": {},
     "output_type": "execute_result"
    }
   ],
   "source": [
    "d2.get_warning_params()"
   ]
  },
  {
   "cell_type": "code",
   "execution_count": null,
   "metadata": {
    "collapsed": true
   },
   "outputs": [],
   "source": []
  }
 ],
 "metadata": {
  "kernelspec": {
   "display_name": "Python [default]",
   "language": "python",
   "name": "python3"
  },
  "language_info": {
   "codemirror_mode": {
    "name": "ipython",
    "version": 3
   },
   "file_extension": ".py",
   "mimetype": "text/x-python",
   "name": "python",
   "nbconvert_exporter": "python",
   "pygments_lexer": "ipython3",
   "version": "3.5.2"
  }
 },
 "nbformat": 4,
 "nbformat_minor": 2
}
